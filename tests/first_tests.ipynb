{
 "cells": [
  {
   "cell_type": "markdown",
   "id": "52e7dc88",
   "metadata": {},
   "source": [
    "Recoger datos del PDF"
   ]
  },
  {
   "cell_type": "code",
   "execution_count": 1,
   "id": "462483dc",
   "metadata": {},
   "outputs": [
    {
     "name": "stdout",
     "output_type": "stream",
     "text": [
      "Texto completo:  Esto es una prueba para DocentIA. \n",
      "\n"
     ]
    }
   ],
   "source": [
    "import os, sys\n",
    "import fitz # pymupdf\n",
    "\n",
    "'''\n",
    "from dotenv import load_dotenv\n",
    "load_dotenv()\n",
    "OPENAI_KEY = os.getenv(\"OPENAI_KEY\")\n",
    "'''\n",
    "\n",
    "# Importaciones\n",
    "import fitz  # PyMuPDF\n",
    "import os\n",
    "\n",
    "file_path = \"../docs\\Prueba_DocentIA.pdf\"\n",
    "\n",
    "texto_extraido = \"\"\n",
    "\n",
    "with fitz.open(file_path) as pdf:\n",
    "    for page in pdf:\n",
    "        texto_extraido += page.get_text()\n",
    "\n",
    "print(\"Texto completo: \", texto_extraido)"
   ]
  },
  {
   "cell_type": "markdown",
   "id": "6b890993",
   "metadata": {},
   "source": [
    "Prueba de Loader con OCR (Optical Character Recognition)"
   ]
  },
  {
   "cell_type": "code",
   "execution_count": 2,
   "id": "579b2324",
   "metadata": {},
   "outputs": [
    {
     "name": "stdout",
     "output_type": "stream",
     "text": [
      "<class 'langchain_core.documents.base.Document'>\n",
      "{'producer': 'Skia/PDF m115', 'creator': 'Chromium', 'creationdate': '2025-08-19T18:14:33+00:00', 'moddate': '2025-08-19T18:14:33+00:00', 'source': '../docs\\\\LSM_PreSecurity_TryHackMe.pdf', 'total_pages': 1, 'page': 0, 'page_label': '1'}\n",
      "THM-SI2RYXBTBU\n",
      "CERTIFICATE OF COMPLETION\n",
      "this is to acknowledge that\n",
      "hassuccessfullycompleted the\n",
      "Learning Path\n",
      "Pre Security\n",
      "Laura Sánchez\n",
      "19th August 2025\n",
      "Course duration: 7 hours 38 minutes\n"
     ]
    }
   ],
   "source": [
    "from langchain_community.document_loaders import PyPDFLoader\n",
    "from datetime import datetime\n",
    "\n",
    "file_path = \"../docs\\LSM_PreSecurity_TryHackMe.pdf\"\n",
    "loader = PyPDFLoader(file_path)\n",
    "pages = []\n",
    "\n",
    "# page es un Langchain Document\n",
    "for page in loader.load():\n",
    "    if page.metadata[\"creationdate\"] == \"\":\n",
    "        page.metadata[\"creationdate\"] = datetime.today().strftime(\"%d-%m-%Y\")\n",
    "    pages.append(page)\n",
    "    print(type(page))\n",
    "    \n",
    "     \n",
    "print(pages[0].metadata)\n",
    "print(pages[0].page_content)"
   ]
  },
  {
   "cell_type": "markdown",
   "id": "87373711",
   "metadata": {},
   "source": [
    "Embeddings con HuggingFace"
   ]
  },
  {
   "cell_type": "code",
   "execution_count": 7,
   "id": "d68b3fa9",
   "metadata": {},
   "outputs": [
    {
     "name": "stdout",
     "output_type": "stream",
     "text": [
      "Probando modelo > sentence-transformers/paraphrase-multilingual-MiniLM-L12-v2\n"
     ]
    }
   ],
   "source": [
    "from langchain_huggingface import HuggingFaceEmbeddings\n",
    "import time\n",
    "\n",
    "import os\n",
    "os.environ[\"HF_HUB_DISABLE_PROGRESS_BARS\"] = \"1\"\n",
    "\n",
    "model_name = \"sentence-transformers/paraphrase-multilingual-MiniLM-L12-v2\"\n",
    "model_kwargs = 33\n",
    "encode_kwargs = 22\n",
    "\n",
    "print(f\"Probando modelo > {model_name}\")\n",
    "embeddings = HuggingFaceEmbeddings(model_name = model_name)\n",
    "\n",
    "start_time = time.time()"
   ]
  },
  {
   "cell_type": "code",
   "execution_count": 6,
   "id": "49567b97",
   "metadata": {},
   "outputs": [
    {
     "name": "stdout",
     "output_type": "stream",
     "text": [
      "\n",
      "🔹 Probando modelo: sentence-transformers/paraphrase-multilingual-MiniLM-L12-v2\n",
      "Tiempo total > 0.061858177185058594\n",
      "\n",
      "\n",
      "🔹 Probando modelo: sentence-transformers/distiluse-base-multilingual-cased-v2\n",
      "Tiempo total > 0.08364129066467285\n",
      "\n",
      "\n",
      "🔹 Probando modelo: sentence-transformers/all-MiniLM-L6-v2\n",
      "Tiempo total > 0.035395145416259766\n",
      "\n",
      "\n",
      "🔹 Probando modelo: sentence-transformers/all-mpnet-base-v2\n",
      "Tiempo total > 0.15935254096984863\n",
      "\n",
      "\n",
      "🔹 Probando modelo: intfloat/multilingual-e5-base\n",
      "Tiempo total > 0.16162538528442383\n",
      "\n"
     ]
    }
   ],
   "source": [
    "import time\n",
    "import numpy as np\n",
    "from langchain_community.embeddings import HuggingFaceEmbeddings\n",
    "\n",
    "import os\n",
    "os.environ[\"HF_HUB_DISABLE_PROGRESS_BARS\"] = \"1\"\n",
    "\n",
    "# Modelos a testear\n",
    "modelos = [\n",
    "    \"sentence-transformers/paraphrase-multilingual-MiniLM-L12-v2\",\n",
    "    \"sentence-transformers/distiluse-base-multilingual-cased-v2\",\n",
    "    \"sentence-transformers/all-MiniLM-L6-v2\",\n",
    "    \"sentence-transformers/all-mpnet-base-v2\",\n",
    "    \"intfloat/multilingual-e5-base\"\n",
    "]\n",
    "\n",
    "# Frases de prueba (español e inglés)\n",
    "frases = [\n",
    "    \"El perro juega en el parque\",\n",
    "    \"Un canino corre en la hierba\",\n",
    "    \"La inteligencia artificial cambiará el futuro\",\n",
    "    \"Artificial intelligence will transform the future\"\n",
    "]\n",
    "\n",
    "def benchmark_model(model_name):\n",
    "    print(f\"\\n🔹 Probando modelo: {model_name}\")\n",
    "    embeddings = HuggingFaceEmbeddings(model_name=model_name)\n",
    "\n",
    "    # Tiempo de embedding\n",
    "    start = time.time()\n",
    "    vectores = [embeddings.embed_query(f) for f in frases]\n",
    "    elapsed = time.time() - start\n",
    "\n",
    "    print(f\"Tiempo total > {elapsed}\\n\")\n",
    "\n",
    "if __name__ == \"__main__\":\n",
    "    for modelo in modelos:\n",
    "        benchmark_model(modelo)\n"
   ]
  },
  {
   "cell_type": "markdown",
   "id": "6bdd818d",
   "metadata": {},
   "source": [
    "## Prueba de loader con embeddings de Huggingface\n",
    "articulo.pdf (417) -> 32.35 s."
   ]
  },
  {
   "cell_type": "code",
   "execution_count": null,
   "id": "e4dbea5a",
   "metadata": {},
   "outputs": [
    {
     "name": "stdout",
     "output_type": "stream",
     "text": [
      "\n",
      "🔹 Probando modelo: sentence-transformers/paraphrase-multilingual-MiniLM-L12-v2\n",
      "\n",
      "FINISH LOADING DATA: TIME ELAPSED > 32.23144459724426\n"
     ]
    }
   ],
   "source": [
    "from langchain_community.document_loaders import PyPDFLoader\n",
    "from datetime import datetime\n",
    "\n",
    "file_path = \"../docs/articulo.pdf\"\n",
    "loader = PyPDFLoader(file_path)\n",
    "pages = []\n",
    "start_time = time.time()\n",
    "\n",
    "for page in loader.load():\n",
    "    if page.metadata[\"creationdate\"] == \"\":\n",
    "        page.metadata[\"creationdate\"] = datetime.today().strftime(\"%d-%m-%Y\")\n",
    "    pages.append(page)\n",
    "\n",
    "print(f\"\\n🔹 Probando modelo: {model_name}\")\n",
    "embedding_model = HuggingFaceEmbeddings(model_name=\"sentence-transformers/paraphrase-multilingual-MiniLM-L12-v2\")\n",
    "\n",
    "# Tiempo de embedding\n",
    "for page in pages:\n",
    "    total_embeddings = embedding_model.embed_query(page.page_content)\n",
    "elapsed_time = time.time() - start_time\n",
    "\n",
    "print(f\"\\nFINISH LOADING DATA: TIME ELAPSED > {elapsed_time}\") \n"
   ]
  }
 ],
 "metadata": {
  "kernelspec": {
   "display_name": ".venv (3.11.9)",
   "language": "python",
   "name": "python3"
  },
  "language_info": {
   "codemirror_mode": {
    "name": "ipython",
    "version": 3
   },
   "file_extension": ".py",
   "mimetype": "text/x-python",
   "name": "python",
   "nbconvert_exporter": "python",
   "pygments_lexer": "ipython3",
   "version": "3.11.9"
  }
 },
 "nbformat": 4,
 "nbformat_minor": 5
}
