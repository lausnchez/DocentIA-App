{
 "cells": [
  {
   "cell_type": "markdown",
   "id": "eaf4bb23",
   "metadata": {},
   "source": [
    "Iniciar conexión con MongoDB por medio de Atlas"
   ]
  },
  {
   "cell_type": "code",
   "execution_count": 34,
   "id": "b1ea8837",
   "metadata": {},
   "outputs": [],
   "source": [
    "from pymongo import MongoClient\n",
    "import os\n",
    "from dotenv import load_dotenv\n",
    "import datetime\n",
    "import random\n",
    "\n",
    "load_dotenv()\n",
    "\n",
    "try:\n",
    "    # Hardcodeada para hacerlo más simple, quizás conviene mirar a futuro otra forma de hacerlo\n",
    "    cluster_uri = os.getenv(\"MONGODB_CONNECTION_STRING\")\n",
    "    db_name = os.getenv(\"MONGODB_DATABASE_NAME\")\n",
    "    client = MongoClient(cluster_uri)\n",
    "\n",
    "    test_collection_name = \"Test_Collection\"\n",
    "    database = client[db_name]\n",
    "    collection = database[test_collection_name]\n",
    "\n",
    "except Exception as e:\n",
    "    print(f\"Ha ocurrido un error:\\n{e}\") \n"
   ]
  },
  {
   "cell_type": "markdown",
   "id": "7a53822f",
   "metadata": {},
   "source": [
    "Insertar datos en la colección"
   ]
  },
  {
   "cell_type": "code",
   "execution_count": 28,
   "id": "b9cff614",
   "metadata": {},
   "outputs": [
    {
     "name": "stdout",
     "output_type": "stream",
     "text": [
      "Se ha insertado el valor en la colección: True\n"
     ]
    }
   ],
   "source": [
    "try:\n",
    "    \n",
    "    test_data = {\n",
    "            \"test_number\": 1,\n",
    "            \"test_day\" : str(datetime.datetime.now().date())\n",
    "        }\n",
    "        \n",
    "    result = collection.insert_one(test_data)\n",
    "    print(f\"Se ha insertado el valor en la colección: {result.acknowledged}\") \n",
    "    client.close() \n",
    "except Exception as e:\n",
    "    print(f\"Error encontrado: {e}\")"
   ]
  },
  {
   "cell_type": "markdown",
   "id": "80262ce8",
   "metadata": {},
   "source": [
    "Borrar datos"
   ]
  },
  {
   "cell_type": "code",
   "execution_count": 8,
   "id": "18b5c68a",
   "metadata": {},
   "outputs": [
    {
     "name": "stdout",
     "output_type": "stream",
     "text": [
      "Se ha borrado el dato con exito: True\n"
     ]
    }
   ],
   "source": [
    "test_number_delete = {\"test_number\" : 0}\n",
    "try:\n",
    "    result = collection.delete_many(test_number_delete)\n",
    "    print(f\"Se ha borrado el dato con exito: {result.acknowledged}\")\n",
    "    client.close()\n",
    "except Exception as e:\n",
    "    print(f\"Error al borrar: {e}\")"
   ]
  },
  {
   "cell_type": "markdown",
   "id": "d90a8d63",
   "metadata": {},
   "source": [
    "Buscar datos"
   ]
  },
  {
   "cell_type": "code",
   "execution_count": 10,
   "id": "19bcf2c2",
   "metadata": {},
   "outputs": [
    {
     "name": "stdout",
     "output_type": "stream",
     "text": [
      "Se ha encontrado el registro num 68d309c1e6fed94b410d67ef con fecha 2025-09-23 22:57:37.658000\n"
     ]
    }
   ],
   "source": [
    "from bson import ObjectId\n",
    "\n",
    "id_number = \"68d309c1e6fed94b410d67ef\"\n",
    "try:\n",
    "   result = collection.find_one(ObjectId(id_number))\n",
    "   fecha_result = result[\"test_day\"]\n",
    "   print(f\"Se ha encontrado el registro num {id_number} con fecha {fecha_result}\")\n",
    "   client.close()\n",
    "except Exception as e:\n",
    "    print(f\"Error al buscar datos:{e}\")"
   ]
  },
  {
   "cell_type": "code",
   "execution_count": null,
   "id": "48aa03d9",
   "metadata": {},
   "outputs": [
    {
     "name": "stdout",
     "output_type": "stream",
     "text": [
      "Hay 2 documentos coincidentes.\n",
      "Se han encontrado estos resultados:\n",
      "{'_id': ObjectId('68d55bd1b382f35555efe805'),\n",
      " 'test_day': '2025-09-25',\n",
      " 'test_number': 1}\n",
      "Se han encontrado estos resultados:\n",
      "{'_id': ObjectId('68d55be3b382f35555efe807'),\n",
      " 'test_day': '2025-09-25',\n",
      " 'test_number': 1}\n"
     ]
    }
   ],
   "source": [
    "from bson import ObjectId\n",
    "import datetime\n",
    "import pprint\n",
    "\n",
    "today_date = str(datetime.datetime.now().date())\n",
    "\n",
    "try:\n",
    "    result = collection.find({\"test_day\" : today_date})\n",
    "    docs = list(result)\n",
    "    if docs:\n",
    "        print(f\"Hay {len(docs)} documentos coincidentes.\")\n",
    "        for doc in docs:\n",
    "            pprint.pprint(doc)\n",
    "    else:\n",
    "        print(\"No existe docs\")\n",
    "    client.close()\n",
    "except Exception as e:\n",
    "    print(f\"Se ha encontrado un error al buscar: {e}\")\n"
   ]
  },
  {
   "cell_type": "code",
   "execution_count": 35,
   "id": "494fd115",
   "metadata": {},
   "outputs": [
    {
     "name": "stdout",
     "output_type": "stream",
     "text": [
      "Hay 9 documentos coincidentes.\n",
      "ObjectId('68d289f7f37d98783a74be6f')\n",
      "ObjectId('68d28b33f37d98783a74be70')\n",
      "ObjectId('68d309c1e6fed94b410d67ef')\n",
      "ObjectId('68d47e06d21d987d9c318a27')\n",
      "ObjectId('68d558a3b382f35555efe7f7')\n",
      "ObjectId('68d55aa5b382f35555efe7fb')\n",
      "ObjectId('68d55aacb382f35555efe7fd')\n",
      "ObjectId('68d55bd1b382f35555efe805')\n",
      "ObjectId('68d55be3b382f35555efe807')\n"
     ]
    }
   ],
   "source": [
    "from bson import ObjectId\n",
    "import datetime\n",
    "import pprint\n",
    "\n",
    "today_date = str(datetime.datetime.now().date())\n",
    "\n",
    "try:\n",
    "    result = collection.find()\n",
    "    docs = list(result)\n",
    "    if docs:\n",
    "        print(f\"Hay {len(docs)} documentos coincidentes.\")\n",
    "        for doc in docs:\n",
    "            pprint.pprint(doc[\"_id\"])\n",
    "    else:\n",
    "        print(\"No existe docs\")\n",
    "    client.close()\n",
    "except Exception as e:\n",
    "    print(f\"Se ha encontrado un error al buscar: {e}\")\n"
   ]
  },
  {
   "cell_type": "markdown",
   "id": "99932947",
   "metadata": {},
   "source": [
    "Modificar datos"
   ]
  },
  {
   "cell_type": "code",
   "execution_count": null,
   "id": "c5054ac1",
   "metadata": {},
   "outputs": [
    {
     "name": "stdout",
     "output_type": "stream",
     "text": [
      "Se ha actualizado el ObjectId  68d289f7f37d98783a74be6f con el test_number: 33\n"
     ]
    }
   ],
   "source": [
    "from bson import ObjectId\n",
    "id_mod = \"68d289f7f37d98783a74be6f\"\n",
    "new_test_number = 33\n",
    "\n",
    "try:\n",
    "    collection.update_one({\"_id\": ObjectId(\"68d289f7f37d98783a74be6f\")}, {\"$set\": {\"test_number\" : new_test_number}})\n",
    "    print(f\"Se ha actualizado el ObjectId  {id_mod} con el test_number: {new_test_number}\")\n",
    "    client.close()\n",
    "except Exception as e:\n",
    "    print(f\"Error al modificar el dato con ID {id_mod}: {e}\")"
   ]
  }
 ],
 "metadata": {
  "kernelspec": {
   "display_name": ".venv (3.11.9)",
   "language": "python",
   "name": "python3"
  },
  "language_info": {
   "codemirror_mode": {
    "name": "ipython",
    "version": 3
   },
   "file_extension": ".py",
   "mimetype": "text/x-python",
   "name": "python",
   "nbconvert_exporter": "python",
   "pygments_lexer": "ipython3",
   "version": "3.11.9"
  }
 },
 "nbformat": 4,
 "nbformat_minor": 5
}
